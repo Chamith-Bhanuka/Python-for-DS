{
 "cells": [
  {
   "cell_type": "markdown",
   "id": "67310091",
   "metadata": {},
   "source": [
    "Python Tuples"
   ]
  },
  {
   "cell_type": "code",
   "id": "13d53fd4",
   "metadata": {
    "ExecuteTime": {
     "end_time": "2025-10-04T19:42:45.297913Z",
     "start_time": "2025-10-04T19:42:45.292550Z"
    }
   },
   "source": [
    "sample_tuple = (\"item-one\", 30)\n",
    "print(type(sample_tuple))"
   ],
   "outputs": [
    {
     "name": "stdout",
     "output_type": "stream",
     "text": [
      "<class 'tuple'>\n"
     ]
    }
   ],
   "execution_count": 6
  },
  {
   "cell_type": "code",
   "id": "511773b5",
   "metadata": {
    "ExecuteTime": {
     "end_time": "2025-10-04T19:42:45.346018Z",
     "start_time": "2025-10-04T19:42:45.341853Z"
    }
   },
   "source": [
    "# Workaround for change/update values from tuples (by default tuples are immutable)\n",
    "\n",
    "sports = (\"Cricket\", \"Football\", \"Tennis\")\n",
    "print(type(sports))\n",
    "\n",
    "sports_list = list(sports)\n",
    "print(type(sports_list))\n",
    "\n",
    "sports_list[2] = \"Badminton\"\n",
    "\n",
    "sports_new_table = tuple(sports_list)\n",
    "print(type(sports_new_table))"
   ],
   "outputs": [
    {
     "name": "stdout",
     "output_type": "stream",
     "text": [
      "<class 'tuple'>\n",
      "<class 'list'>\n",
      "<class 'tuple'>\n"
     ]
    }
   ],
   "execution_count": 7
  },
  {
   "cell_type": "code",
   "id": "689822db",
   "metadata": {
    "ExecuteTime": {
     "end_time": "2025-10-04T19:42:45.375498Z",
     "start_time": "2025-10-04T19:42:45.371244Z"
    }
   },
   "source": [
    "# Nested Tuples\n",
    "nested_tuples = ((1, 2, 3), (\"a\", \"b\", \"c\"), (True, False))\n",
    "print(nested_tuples[1][1])\n",
    "print(nested_tuples[2][0])"
   ],
   "outputs": [
    {
     "name": "stdout",
     "output_type": "stream",
     "text": [
      "b\n",
      "True\n"
     ]
    }
   ],
   "execution_count": 8
  },
  {
   "cell_type": "markdown",
   "id": "93eb2eda",
   "metadata": {},
   "source": [
    "Python Sets"
   ]
  },
  {
   "cell_type": "code",
   "id": "98e68b9a",
   "metadata": {
    "ExecuteTime": {
     "end_time": "2025-10-04T19:42:45.401260Z",
     "start_time": "2025-10-04T19:42:45.397802Z"
    }
   },
   "source": [
    "laptops = {\"Asus\", \"Hp\", \"Dell\"}\n",
    "print(laptops) # sets are unordered so values can be display different order than actual set\n",
    "print(type(laptops))"
   ],
   "outputs": [
    {
     "name": "stdout",
     "output_type": "stream",
     "text": [
      "{'Asus', 'Dell', 'Hp'}\n",
      "<class 'set'>\n"
     ]
    }
   ],
   "execution_count": 9
  },
  {
   "cell_type": "code",
   "id": "b8fa518c",
   "metadata": {
    "ExecuteTime": {
     "end_time": "2025-10-04T19:42:45.422033Z",
     "start_time": "2025-10-04T19:42:45.418381Z"
    }
   },
   "source": [
    "laptops_set = {\"Asus\", \"Hp\", \"Dell\", \"Mac\", \"Lenovo\", \"Hp\"}\n",
    "print(laptops_set) # Sets does not support duplicates"
   ],
   "outputs": [
    {
     "name": "stdout",
     "output_type": "stream",
     "text": [
      "{'Dell', 'Lenovo', 'Asus', 'Mac', 'Hp'}\n"
     ]
    }
   ],
   "execution_count": 10
  },
  {
   "cell_type": "code",
   "id": "448c847e",
   "metadata": {
    "ExecuteTime": {
     "end_time": "2025-10-04T19:42:45.447389Z",
     "start_time": "2025-10-04T19:42:45.443196Z"
    }
   },
   "source": [
    "animals = {\"Elephant\", \"Tiger\", \"Bear\", \"Bee\", \"Lion\"}\n",
    "\n",
    "animals.add(\"Dog\")\n",
    "print(animals)\n",
    "\n",
    "animals.update([\"Cat\", \"Parrot\"])\n",
    "print(animals)\n",
    "\n",
    "animals.remove(\"Parrot\")\n",
    "print(animals)\n"
   ],
   "outputs": [
    {
     "name": "stdout",
     "output_type": "stream",
     "text": [
      "{'Tiger', 'Elephant', 'Dog', 'Bear', 'Bee', 'Lion'}\n",
      "{'Tiger', 'Elephant', 'Dog', 'Parrot', 'Bear', 'Bee', 'Cat', 'Lion'}\n",
      "{'Tiger', 'Elephant', 'Dog', 'Bear', 'Bee', 'Cat', 'Lion'}\n"
     ]
    }
   ],
   "execution_count": 11
  },
  {
   "cell_type": "markdown",
   "id": "39acc62e",
   "metadata": {},
   "source": [
    "Python Range"
   ]
  },
  {
   "cell_type": "code",
   "id": "e23415bd",
   "metadata": {
    "ExecuteTime": {
     "end_time": "2025-10-04T19:42:45.473658Z",
     "start_time": "2025-10-04T19:42:45.470254Z"
    }
   },
   "source": [
    "ran = range(3, 24, 4)\n",
    "print(ran[0])\n",
    "print(ran[1])\n",
    "print(ran[2])\n",
    "print(ran[3])\n",
    "print(ran[4])\n",
    "print(ran[5])\n",
    "\n",
    "print(type(ran))"
   ],
   "outputs": [
    {
     "name": "stdout",
     "output_type": "stream",
     "text": [
      "3\n",
      "7\n",
      "11\n",
      "15\n",
      "19\n",
      "23\n",
      "<class 'range'>\n"
     ]
    }
   ],
   "execution_count": 12
  },
  {
   "cell_type": "code",
   "id": "dae86519",
   "metadata": {
    "ExecuteTime": {
     "end_time": "2025-10-04T19:42:45.510082Z",
     "start_time": "2025-10-04T19:42:45.506641Z"
    }
   },
   "source": [
    "r1 = range(2,11,2) # start value, end value, step\n",
    "r2 = range(2,11) # stat value, end value - step omitted\n",
    "r3 = range(11) # end value = start value and step omitted\n"
   ],
   "outputs": [],
   "execution_count": 13
  },
  {
   "cell_type": "markdown",
   "id": "a17621a1",
   "metadata": {},
   "source": "Python Dictionary"
  },
  {
   "cell_type": "code",
   "id": "92040ff2",
   "metadata": {
    "ExecuteTime": {
     "end_time": "2025-10-04T19:42:45.533932Z",
     "start_time": "2025-10-04T19:42:45.530256Z"
    }
   },
   "source": [
    "dict1 = {\n",
    "    \"name\" : \"Soap\",\n",
    "    \"code\": 23,\n",
    "    \"price\": 200.50\n",
    "}\n",
    "\n",
    "print(dict1)\n",
    "print(type(dict1))\n",
    "\n",
    "print(dict1[\"name\"])\n",
    "\n",
    "dict1[\"name\"] = \"Rice\"\n",
    "print(dict1)"
   ],
   "outputs": [
    {
     "name": "stdout",
     "output_type": "stream",
     "text": [
      "{'name': 'Soap', 'code': 23, 'price': 200.5}\n",
      "<class 'dict'>\n",
      "Soap\n",
      "{'name': 'Rice', 'code': 23, 'price': 200.5}\n"
     ]
    }
   ],
   "execution_count": 14
  },
  {
   "cell_type": "code",
   "id": "219c7fe0",
   "metadata": {
    "ExecuteTime": {
     "end_time": "2025-10-04T19:42:45.557792Z",
     "start_time": "2025-10-04T19:42:45.553550Z"
    }
   },
   "source": [
    "dict2 = {\n",
    "    \"name\": \"bhanuka\",\n",
    "    \"age\": 20,\n",
    "    \"age\": 23\n",
    "}\n",
    "\n",
    "print(dict2[\"age\"]) # duplicate keys override"
   ],
   "outputs": [
    {
     "name": "stdout",
     "output_type": "stream",
     "text": [
      "23\n"
     ]
    }
   ],
   "execution_count": 15
  },
  {
   "cell_type": "code",
   "id": "aade169d",
   "metadata": {
    "ExecuteTime": {
     "end_time": "2025-10-04T19:42:45.581275Z",
     "start_time": "2025-10-04T19:42:45.577988Z"
    }
   },
   "source": [
    "my_dict = {\n",
    "    # \"name\": \"alice\",\n",
    "    42: \"Integer key\",\n",
    "    (1,7): \"tuple key\",\n",
    "    (3,4): \"list\"\n",
    "}\n",
    "\n",
    "print(my_dict.get(\"name\", \"default name\")) # can be ensured some value assign without throwing unexpected errors"
   ],
   "outputs": [
    {
     "name": "stdout",
     "output_type": "stream",
     "text": [
      "default name\n"
     ]
    }
   ],
   "execution_count": 16
  },
  {
   "cell_type": "code",
   "id": "09b9a97f",
   "metadata": {
    "ExecuteTime": {
     "end_time": "2025-10-04T19:42:45.602633Z",
     "start_time": "2025-10-04T19:42:45.598932Z"
    }
   },
   "source": [
    "item = {\n",
    "    \"name\": \"Burger\",\n",
    "    \"weight\": \"1Kg\",\n",
    "    \"qty\": 100\n",
    "}\n",
    "\n",
    "item.update({\"weight\": \"2Kg\", \"date\": \"2020-10-19\"})\n",
    "print(item)\n",
    "\n",
    "removed_val = item.pop(\"name\")\n",
    "print(removed_val)\n",
    "print(item)\n",
    "\n",
    "del item[\"weight\"]\n",
    "print(item)\n",
    "\n",
    "item.clear()\n",
    "print(item)"
   ],
   "outputs": [
    {
     "name": "stdout",
     "output_type": "stream",
     "text": [
      "{'name': 'Burger', 'weight': '2Kg', 'qty': 100, 'date': '2020-10-19'}\n",
      "Burger\n",
      "{'weight': '2Kg', 'qty': 100, 'date': '2020-10-19'}\n",
      "{'qty': 100, 'date': '2020-10-19'}\n",
      "{}\n"
     ]
    }
   ],
   "execution_count": 17
  },
  {
   "cell_type": "markdown",
   "id": "5fccb3f8",
   "metadata": {},
   "source": "Python Operators"
  },
  {
   "cell_type": "code",
   "id": "c15481d3",
   "metadata": {
    "ExecuteTime": {
     "end_time": "2025-10-04T19:42:45.629669Z",
     "start_time": "2025-10-04T19:42:45.624188Z"
    }
   },
   "source": [
    "x = 2 ** 3\n",
    "print(x)"
   ],
   "outputs": [
    {
     "name": "stdout",
     "output_type": "stream",
     "text": [
      "8\n"
     ]
    }
   ],
   "execution_count": 18
  },
  {
   "cell_type": "code",
   "id": "37dbaaa3",
   "metadata": {
    "ExecuteTime": {
     "end_time": "2025-10-04T19:42:45.661298Z",
     "start_time": "2025-10-04T19:42:45.658428Z"
    }
   },
   "source": [
    "# Assignment Operator\n",
    "x = 6\n",
    "x += 7 # add and assign"
   ],
   "outputs": [],
   "execution_count": 19
  },
  {
   "cell_type": "code",
   "id": "0276af47",
   "metadata": {
    "ExecuteTime": {
     "end_time": "2025-10-04T19:42:45.676394Z",
     "start_time": "2025-10-04T19:42:45.671972Z"
    }
   },
   "source": [
    "product_ids = [\"I001\", \"I002\", \"I003\", \"I001\"]\n",
    "has_duplicate = len(set(product_ids)) != len(product_ids)\n",
    "print(has_duplicate)"
   ],
   "outputs": [
    {
     "name": "stdout",
     "output_type": "stream",
     "text": [
      "True\n"
     ]
    }
   ],
   "execution_count": 20
  },
  {
   "cell_type": "code",
   "id": "7b40ce49",
   "metadata": {
    "ExecuteTime": {
     "end_time": "2025-10-04T19:42:45.707608Z",
     "start_time": "2025-10-04T19:42:45.704799Z"
    }
   },
   "source": [
    "# Logical Operators\n",
    "x = 3\n",
    "y = 8\n",
    "\n",
    "print(x<=5 and y<=10)\n",
    "print(x<10 or y>100)\n",
    "print(not x<10)\n"
   ],
   "outputs": [
    {
     "name": "stdout",
     "output_type": "stream",
     "text": [
      "True\n",
      "True\n",
      "False\n"
     ]
    }
   ],
   "execution_count": 21
  },
  {
   "cell_type": "code",
   "id": "24984eb6",
   "metadata": {
    "ExecuteTime": {
     "end_time": "2025-10-04T19:42:45.732528Z",
     "start_time": "2025-10-04T19:42:45.729085Z"
    }
   },
   "source": [
    "# Identity Operators\n",
    "x = 10\n",
    "y = 10\n",
    "print(x is y)\n",
    "print(x is not y)"
   ],
   "outputs": [
    {
     "name": "stdout",
     "output_type": "stream",
     "text": [
      "True\n",
      "False\n"
     ]
    }
   ],
   "execution_count": 22
  },
  {
   "cell_type": "code",
   "id": "57a022b4",
   "metadata": {
    "ExecuteTime": {
     "end_time": "2025-10-04T19:42:45.764575Z",
     "start_time": "2025-10-04T19:42:45.760937Z"
    }
   },
   "source": [
    "# Membership Operators\n",
    "nums = [10, 20, 30 ,40, 10]\n",
    "print(10 in nums)\n",
    "print(100 not in nums)"
   ],
   "outputs": [
    {
     "name": "stdout",
     "output_type": "stream",
     "text": [
      "True\n",
      "True\n"
     ]
    }
   ],
   "execution_count": 23
  },
  {
   "metadata": {
    "ExecuteTime": {
     "end_time": "2025-10-04T19:42:45.787855Z",
     "start_time": "2025-10-04T19:42:45.784508Z"
    }
   },
   "cell_type": "code",
   "source": [
    "# Arithmetic Operators\n",
    "x = 9\n",
    "y = 2\n",
    "print(x/y)\n",
    "print(x//y)\n",
    "print(x%y)"
   ],
   "id": "384df46b8e4241f2",
   "outputs": [
    {
     "name": "stdout",
     "output_type": "stream",
     "text": [
      "4.5\n",
      "4\n",
      "1\n"
     ]
    }
   ],
   "execution_count": 24
  },
  {
   "cell_type": "code",
   "id": "f7bf1bba",
   "metadata": {
    "ExecuteTime": {
     "end_time": "2025-10-04T19:42:45.808897Z",
     "start_time": "2025-10-04T19:42:45.804997Z"
    }
   },
   "source": [
    "x = 5\n",
    "y = 10\n",
    "print(x & y)"
   ],
   "outputs": [
    {
     "name": "stdout",
     "output_type": "stream",
     "text": [
      "0\n"
     ]
    }
   ],
   "execution_count": 25
  },
  {
   "cell_type": "markdown",
   "id": "a97aee13",
   "metadata": {},
   "source": [
    "Control Flow Statement"
   ]
  },
  {
   "cell_type": "code",
   "id": "8bd56b4c",
   "metadata": {
    "ExecuteTime": {
     "end_time": "2025-10-04T19:42:45.836386Z",
     "start_time": "2025-10-04T19:42:45.832673Z"
    }
   },
   "source": [
    "n = 11\n",
    "if n % 2 != 0:\n",
    "    print(\"This is odd number\")\n",
    "else:\n",
    "    print(\"This is even number\")\n",
    "    \n"
   ],
   "outputs": [
    {
     "name": "stdout",
     "output_type": "stream",
     "text": [
      "This is odd number\n"
     ]
    }
   ],
   "execution_count": 26
  },
  {
   "cell_type": "code",
   "id": "9073cbc3",
   "metadata": {
    "ExecuteTime": {
     "end_time": "2025-10-04T19:42:45.865915Z",
     "start_time": "2025-10-04T19:42:45.862503Z"
    }
   },
   "source": [
    "r = 10\n",
    "PI_VALUE = 3.14\n",
    "\n",
    "if r > 0:\n",
    "    c = 2 * PI_VALUE * r\n",
    "    print(\"Circumference of the circle is: \", c)\n",
    "else:\n",
    "    print(\"Invalid value for radius\")"
   ],
   "outputs": [
    {
     "name": "stdout",
     "output_type": "stream",
     "text": [
      "Circumference of the circle is:  62.800000000000004\n"
     ]
    }
   ],
   "execution_count": 27
  },
  {
   "cell_type": "code",
   "id": "5a4b042a",
   "metadata": {
    "ExecuteTime": {
     "end_time": "2025-10-04T19:42:45.915917Z",
     "start_time": "2025-10-04T19:42:45.911772Z"
    }
   },
   "source": [
    "x = 3\n",
    "y = 4\n",
    "\n",
    "if x > 0 and y > 0:\n",
    "    hypotenuse = (x**2 + y**2) ** 0.5\n",
    "    print(\"hypotenuse of the triangle is:\", hypotenuse )\n",
    "else:\n",
    "    print(\"Invalid values for axis\")\n"
   ],
   "outputs": [
    {
     "name": "stdout",
     "output_type": "stream",
     "text": [
      "hypotenuse of the triangle is: 5.0\n"
     ]
    }
   ],
   "execution_count": 28
  }
 ],
 "metadata": {
  "kernelspec": {
   "display_name": "Python 3",
   "language": "python",
   "name": "python3"
  },
  "language_info": {
   "codemirror_mode": {
    "name": "ipython",
    "version": 3
   },
   "file_extension": ".py",
   "mimetype": "text/x-python",
   "name": "python",
   "nbconvert_exporter": "python",
   "pygments_lexer": "ipython3",
   "version": "3.11.3"
  }
 },
 "nbformat": 4,
 "nbformat_minor": 5
}
