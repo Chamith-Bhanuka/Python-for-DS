{
 "cells": [
  {
   "cell_type": "markdown",
   "id": "67310091",
   "metadata": {},
   "source": [
    "Python Tuples"
   ]
  },
  {
   "cell_type": "code",
   "execution_count": null,
   "id": "13d53fd4",
   "metadata": {},
   "outputs": [
    {
     "name": "stdout",
     "output_type": "stream",
     "text": [
      "<class 'tuple'>\n"
     ]
    }
   ],
   "source": [
    "sample_tuple = (\"item-one\", 30)\n",
    "print(type(sample_tuple))"
   ]
  },
  {
   "cell_type": "code",
   "execution_count": 7,
   "id": "511773b5",
   "metadata": {},
   "outputs": [
    {
     "name": "stdout",
     "output_type": "stream",
     "text": [
      "<class 'tuple'>\n",
      "<class 'list'>\n",
      "<class 'tuple'>\n"
     ]
    }
   ],
   "source": [
    "# Workaround for change/update values from tuples (by default tuples are immutable)\n",
    "\n",
    "sports = (\"Cricket\", \"Football\", \"Tennis\")\n",
    "print(type(sports))\n",
    "\n",
    "sports_list = list(sports)\n",
    "print(type(sports_list))\n",
    "\n",
    "sports_list[2] = \"Badminton\"\n",
    "\n",
    "sports_new_tuble = tuple(sports_list)\n",
    "print(type(sports_new_tuble))"
   ]
  },
  {
   "cell_type": "code",
   "execution_count": 12,
   "id": "689822db",
   "metadata": {},
   "outputs": [
    {
     "name": "stdout",
     "output_type": "stream",
     "text": [
      "b\n",
      "True\n"
     ]
    }
   ],
   "source": [
    "# Nested Touples\n",
    "nested_touples = ((1, 2, 3), (\"a\", \"b\", \"c\"), (True, False))\n",
    "print(nested_touples[1][1])\n",
    "print(nested_touples[2][0])"
   ]
  },
  {
   "cell_type": "markdown",
   "id": "93eb2eda",
   "metadata": {},
   "source": [
    "Python Sets"
   ]
  },
  {
   "cell_type": "code",
   "execution_count": null,
   "id": "98e68b9a",
   "metadata": {},
   "outputs": [
    {
     "name": "stdout",
     "output_type": "stream",
     "text": [
      "{'Dell', 'Asus', 'Hp'}\n",
      "<class 'set'>\n"
     ]
    }
   ],
   "source": [
    "laptops = {\"Asus\", \"Hp\", \"Dell\"}\n",
    "print(laptops) # sets are unorderd so values can be display different order than actual set\n",
    "print(type(laptops))"
   ]
  },
  {
   "cell_type": "code",
   "execution_count": 14,
   "id": "b8fa518c",
   "metadata": {},
   "outputs": [
    {
     "name": "stdout",
     "output_type": "stream",
     "text": [
      "{'Mac', 'Asus', 'Dell', 'Lenevo', 'Hp'}\n"
     ]
    }
   ],
   "source": [
    "laptops_set = {\"Asus\", \"Hp\", \"Dell\", \"Mac\", \"Lenevo\", \"Hp\"}\n",
    "print(laptops_set) # Sets does not support duplicates"
   ]
  },
  {
   "cell_type": "code",
   "execution_count": 10,
   "id": "448c847e",
   "metadata": {},
   "outputs": [
    {
     "name": "stdout",
     "output_type": "stream",
     "text": [
      "{'Tiger', 'Dog', 'Lion', 'Bee', 'Elephant', 'Bear'}\n",
      "{'Tiger', 'Dog', 'Lion', 'Bee', 'Elephant', 'Cat', 'Parrot', 'Bear'}\n",
      "{'Tiger', 'Dog', 'Lion', 'Bee', 'Elephant', 'Cat', 'Bear'}\n"
     ]
    }
   ],
   "source": [
    "animals = {\"Elephant\", \"Tiger\", \"Bear\", \"Bee\", \"Lion\"}\n",
    "\n",
    "animals.add(\"Dog\")\n",
    "print(animals)\n",
    "\n",
    "animals.update([\"Cat\", \"Parrot\"])\n",
    "print(animals)\n",
    "\n",
    "animals.remove(\"Parrot\")\n",
    "print(animals)\n"
   ]
  },
  {
   "cell_type": "markdown",
   "id": "39acc62e",
   "metadata": {},
   "source": [
    "Python Range"
   ]
  },
  {
   "cell_type": "code",
   "execution_count": 21,
   "id": "e23415bd",
   "metadata": {},
   "outputs": [
    {
     "name": "stdout",
     "output_type": "stream",
     "text": [
      "3\n",
      "7\n",
      "11\n",
      "15\n",
      "19\n",
      "23\n",
      "<class 'range'>\n"
     ]
    }
   ],
   "source": [
    "ran = range(3, 24, 4)\n",
    "print(ran[0])\n",
    "print(ran[1])\n",
    "print(ran[2])\n",
    "print(ran[3])\n",
    "print(ran[4])\n",
    "print(ran[5])\n",
    "\n",
    "print(type(ran))"
   ]
  },
  {
   "cell_type": "code",
   "execution_count": 23,
   "id": "dae86519",
   "metadata": {},
   "outputs": [],
   "source": [
    "r1 = range(2,11,2) # start value, end value, step\n",
    "r2 = range(2,11) # staet value, end value - step ommited\n",
    "r3 = range(11) # end value = start value and step ommited\n"
   ]
  },
  {
   "cell_type": "markdown",
   "id": "a17621a1",
   "metadata": {},
   "source": [
    "Python Disctionary"
   ]
  },
  {
   "cell_type": "code",
   "execution_count": 27,
   "id": "92040ff2",
   "metadata": {},
   "outputs": [
    {
     "name": "stdout",
     "output_type": "stream",
     "text": [
      "{'name': 'Soap', 'code': 23, 'price': 200.5}\n",
      "<class 'dict'>\n",
      "Soap\n",
      "{'name': 'Rice', 'code': 23, 'price': 200.5}\n"
     ]
    }
   ],
   "source": [
    "dict1 = {\n",
    "    \"name\" : \"Soap\",\n",
    "    \"code\": 23,\n",
    "    \"price\": 200.50\n",
    "}\n",
    "\n",
    "print(dict1)\n",
    "print(type(dict1))\n",
    "\n",
    "print(dict1[\"name\"])\n",
    "\n",
    "dict1[\"name\"] = \"Rice\"\n",
    "print(dict1)"
   ]
  },
  {
   "cell_type": "code",
   "execution_count": null,
   "id": "219c7fe0",
   "metadata": {},
   "outputs": [
    {
     "name": "stdout",
     "output_type": "stream",
     "text": [
      "23\n"
     ]
    }
   ],
   "source": [
    "dict2 = {\n",
    "    \"name\": \"bhanuka\",\n",
    "    \"age\": 20,\n",
    "    \"age\": 23\n",
    "}\n",
    "\n",
    "print(dict2[\"age\"]) # duplicate keys override"
   ]
  },
  {
   "cell_type": "code",
   "execution_count": null,
   "id": "aade169d",
   "metadata": {},
   "outputs": [
    {
     "name": "stdout",
     "output_type": "stream",
     "text": [
      "default name\n"
     ]
    }
   ],
   "source": [
    "my_dict = {\n",
    "    # \"name\": \"alice\",\n",
    "    42: \"Integer key\",\n",
    "    (1,7): \"touple key\",\n",
    "    (3,4): \"list\"\n",
    "}\n",
    "\n",
    "print(my_dict.get(\"name\", \"default name\")) # can be ensure some value assign without throwing unexpexted errors"
   ]
  },
  {
   "cell_type": "code",
   "execution_count": null,
   "id": "09b9a97f",
   "metadata": {},
   "outputs": [
    {
     "name": "stdout",
     "output_type": "stream",
     "text": [
      "{'name': 'Burger', 'weight': '2Kg', 'qty': 100, 'date': '2020-10-19'}\n",
      "Burger\n",
      "{'weight': '2Kg', 'qty': 100, 'date': '2020-10-19'}\n",
      "{'qty': 100, 'date': '2020-10-19'}\n",
      "{}\n"
     ]
    }
   ],
   "source": [
    "item = {\n",
    "    \"name\": \"Burger\",\n",
    "    \"weight\": \"1Kg\",\n",
    "    \"qty\": 100\n",
    "}\n",
    "\n",
    "item.update({\"weight\": \"2Kg\", \"date\": \"2020-10-19\"})\n",
    "print(item)\n",
    "\n",
    "removed_val = item.pop(\"name\")\n",
    "print(removed_val)\n",
    "print(item)\n",
    "\n",
    "del item[\"weight\"]\n",
    "print(item)\n",
    "\n",
    "item.clear()\n",
    "print(item)"
   ]
  },
  {
   "cell_type": "markdown",
   "id": "5fccb3f8",
   "metadata": {},
   "source": [
    "Python Opwrrators"
   ]
  },
  {
   "cell_type": "code",
   "execution_count": 1,
   "id": "c15481d3",
   "metadata": {},
   "outputs": [
    {
     "name": "stdout",
     "output_type": "stream",
     "text": [
      "8\n"
     ]
    }
   ],
   "source": [
    "x = 2 ** 3\n",
    "print(x)"
   ]
  },
  {
   "cell_type": "code",
   "execution_count": null,
   "id": "38ca7a13",
   "metadata": {},
   "outputs": [
    {
     "name": "stdout",
     "output_type": "stream",
     "text": [
      "4.5\n",
      "4\n",
      "1\n"
     ]
    }
   ],
   "source": [
    "# Arithmetic Operators\n",
    "x = 9\n",
    "y = 2\n",
    "print(x/y)\n",
    "print(x//y)\n",
    "print(x%y)"
   ]
  },
  {
   "cell_type": "code",
   "execution_count": 5,
   "id": "37dbaaa3",
   "metadata": {},
   "outputs": [],
   "source": [
    "# Assignment Operator\n",
    "x = 6\n",
    "x += 7 # add and assign"
   ]
  },
  {
   "cell_type": "code",
   "execution_count": 9,
   "id": "0276af47",
   "metadata": {},
   "outputs": [
    {
     "name": "stdout",
     "output_type": "stream",
     "text": [
      "True\n"
     ]
    }
   ],
   "source": [
    "product_ids = [\"I001\", \"I002\", \"I003\", \"I001\"]\n",
    "has_duplicate = len(set(product_ids)) != len(product_ids)\n",
    "print(has_duplicate)"
   ]
  },
  {
   "cell_type": "code",
   "execution_count": 15,
   "id": "7b40ce49",
   "metadata": {},
   "outputs": [
    {
     "name": "stdout",
     "output_type": "stream",
     "text": [
      "True\n",
      "True\n",
      "False\n"
     ]
    }
   ],
   "source": [
    "# Logical Operators\n",
    "x = 3\n",
    "y = 8\n",
    "\n",
    "print(x<=5 and y<=10)\n",
    "print(x<10 or y>100)\n",
    "print(not x<10)\n"
   ]
  },
  {
   "cell_type": "code",
   "execution_count": 28,
   "id": "24984eb6",
   "metadata": {},
   "outputs": [
    {
     "name": "stdout",
     "output_type": "stream",
     "text": [
      "True\n",
      "False\n"
     ]
    }
   ],
   "source": [
    "# Identity Operators\n",
    "x = 10\n",
    "y = 10\n",
    "print(x is y)\n",
    "print(x is not y)"
   ]
  },
  {
   "cell_type": "code",
   "execution_count": 30,
   "id": "57a022b4",
   "metadata": {},
   "outputs": [
    {
     "name": "stdout",
     "output_type": "stream",
     "text": [
      "True\n",
      "True\n"
     ]
    }
   ],
   "source": [
    "# Membership Operators\n",
    "nums = [10, 20, 30 ,40, 10]\n",
    "print(10 in nums)\n",
    "print(100 not in nums)"
   ]
  },
  {
   "cell_type": "code",
   "execution_count": 31,
   "id": "f7bf1bba",
   "metadata": {},
   "outputs": [
    {
     "name": "stdout",
     "output_type": "stream",
     "text": [
      "0\n"
     ]
    }
   ],
   "source": [
    "x = 5\n",
    "y = 10\n",
    "print(x & y)"
   ]
  }
 ],
 "metadata": {
  "kernelspec": {
   "display_name": "Python 3",
   "language": "python",
   "name": "python3"
  },
  "language_info": {
   "codemirror_mode": {
    "name": "ipython",
    "version": 3
   },
   "file_extension": ".py",
   "mimetype": "text/x-python",
   "name": "python",
   "nbconvert_exporter": "python",
   "pygments_lexer": "ipython3",
   "version": "3.11.3"
  }
 },
 "nbformat": 4,
 "nbformat_minor": 5
}
