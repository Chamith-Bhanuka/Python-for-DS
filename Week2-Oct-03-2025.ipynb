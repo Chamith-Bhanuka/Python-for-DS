{
 "cells": [
  {
   "cell_type": "markdown",
   "id": "67310091",
   "metadata": {},
   "source": [
    "Python Tuples"
   ]
  },
  {
   "cell_type": "code",
   "execution_count": null,
   "id": "13d53fd4",
   "metadata": {},
   "outputs": [
    {
     "name": "stdout",
     "output_type": "stream",
     "text": [
      "<class 'tuple'>\n"
     ]
    }
   ],
   "source": [
    "sample_tuple = (\"item-one\", 30)\n",
    "print(type(sample_tuple))"
   ]
  },
  {
   "cell_type": "code",
   "execution_count": null,
   "id": "511773b5",
   "metadata": {},
   "outputs": [
    {
     "name": "stdout",
     "output_type": "stream",
     "text": [
      "<class 'tuple'>\n",
      "<class 'list'>\n",
      "<class 'tuple'>\n"
     ]
    }
   ],
   "source": [
    "# Workaround for change/update values from tuples (by default tuples are immutable)\n",
    "\n",
    "sports = (\"Cricket\", \"Football\", \"Tennis\")\n",
    "print(type(sports))\n",
    "\n",
    "sports_list = list(sports)\n",
    "print(type(sports_list))\n",
    "\n",
    "sports_list[2] = \"Badminton\"\n",
    "\n",
    "sports_new_tuble = tuple(sports_list)\n",
    "print(type(sports_new_tuble))"
   ]
  },
  {
   "cell_type": "code",
   "execution_count": 12,
   "id": "689822db",
   "metadata": {},
   "outputs": [
    {
     "name": "stdout",
     "output_type": "stream",
     "text": [
      "b\n",
      "True\n"
     ]
    }
   ],
   "source": [
    "# Nested Touples\n",
    "nested_touples = ((1, 2, 3), (\"a\", \"b\", \"c\"), (True, False))\n",
    "print(nested_touples[1][1])\n",
    "print(nested_touples[2][0])"
   ]
  },
  {
   "cell_type": "markdown",
   "id": "93eb2eda",
   "metadata": {},
   "source": [
    "Python Sets"
   ]
  },
  {
   "cell_type": "code",
   "execution_count": null,
   "id": "98e68b9a",
   "metadata": {},
   "outputs": [
    {
     "name": "stdout",
     "output_type": "stream",
     "text": [
      "{'Dell', 'Asus', 'Hp'}\n",
      "<class 'set'>\n"
     ]
    }
   ],
   "source": [
    "laptops = {\"Asus\", \"Hp\", \"Dell\"}\n",
    "print(laptops) # sets are unorderd so values can be display different order than actual set\n",
    "print(type(laptops))"
   ]
  },
  {
   "cell_type": "code",
   "execution_count": 14,
   "id": "b8fa518c",
   "metadata": {},
   "outputs": [
    {
     "name": "stdout",
     "output_type": "stream",
     "text": [
      "{'Mac', 'Asus', 'Dell', 'Lenevo', 'Hp'}\n"
     ]
    }
   ],
   "source": [
    "laptops_set = {\"Asus\", \"Hp\", \"Dell\", \"Mac\", \"Lenevo\", \"Hp\"}\n",
    "print(laptops_set) # Sets does not support duplicates"
   ]
  }
 ],
 "metadata": {
  "kernelspec": {
   "display_name": "Python 3",
   "language": "python",
   "name": "python3"
  },
  "language_info": {
   "codemirror_mode": {
    "name": "ipython",
    "version": 3
   },
   "file_extension": ".py",
   "mimetype": "text/x-python",
   "name": "python",
   "nbconvert_exporter": "python",
   "pygments_lexer": "ipython3",
   "version": "3.11.3"
  }
 },
 "nbformat": 4,
 "nbformat_minor": 5
}
