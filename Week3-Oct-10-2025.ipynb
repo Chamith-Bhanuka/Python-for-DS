{
 "cells": [
  {
   "cell_type": "code",
   "id": "initial_id",
   "metadata": {
    "collapsed": true,
    "ExecuteTime": {
     "end_time": "2025-10-10T03:26:48.798561Z",
     "start_time": "2025-10-10T03:26:48.789084Z"
    }
   },
   "source": [
    "a = -(-10)\n",
    "\n",
    "if a > 0:\n",
    "    print(\"a is positive\")\n",
    "elif a < 0:\n",
    "    print(\"a is negative\")\n",
    "else:\n",
    "    print(\"a is zero\")"
   ],
   "outputs": [
    {
     "name": "stdout",
     "output_type": "stream",
     "text": [
      "a is positive\n"
     ]
    }
   ],
   "execution_count": 5
  },
  {
   "metadata": {},
   "cell_type": "markdown",
   "source": "Q1. Write a python program for determine the largest number among three given numbers",
   "id": "43037fa2199d492f"
  },
  {
   "metadata": {
    "ExecuteTime": {
     "end_time": "2025-10-10T03:47:25.834560Z",
     "start_time": "2025-10-10T03:47:17.409028Z"
    }
   },
   "cell_type": "code",
   "outputs": [
    {
     "name": "stdout",
     "output_type": "stream",
     "text": [
      "Largest number is: 100.0\n"
     ]
    }
   ],
   "execution_count": 17,
   "source": [
    "userInput1 = float(input(\"Enter your first number: \"))\n",
    "userInput2 = float(input(\"Enter your second number: \"))\n",
    "userInput3 = float(input(\"Enter your third number: \"))\n",
    "\n",
    "if userInput1 >= userInput2 and userInput1 >= userInput3:\n",
    "    print(\"Largest number is:\", userInput1)\n",
    "elif userInput2 >= userInput1 and userInput2 >= userInput3:\n",
    "    print(\"Largest number is:\", userInput2)\n",
    "else:\n",
    "    print(\"Largest number is:\", userInput3)"
   ],
   "id": "56d46cdc187fc163"
  },
  {
   "metadata": {},
   "cell_type": "markdown",
   "source": "Q2. Write a python program that takes three numbers as input and display them in descending order",
   "id": "bff4ce608fd7a4e1"
  },
  {
   "metadata": {
    "ExecuteTime": {
     "end_time": "2025-10-10T04:25:32.538995Z",
     "start_time": "2025-10-10T04:25:23.187605Z"
    }
   },
   "cell_type": "code",
   "source": [
    "userInput1 = float(input(\"Enter your first number: \"))\n",
    "userInput2 = float(input(\"Enter your second number: \"))\n",
    "userInput3 = float(input(\"Enter your third number: \"))\n",
    "\n",
    "if userInput1 >= userInput2 and userInput1 >= userInput3:\n",
    "    if userInput2 >= userInput3:\n",
    "        print(\"Descending order: \", userInput1, userInput2, userInput3)\n",
    "    else:\n",
    "        print(\"Descending order: \", userInput1, userInput3, userInput2)\n",
    "elif userInput2 >= userInput1 and userInput2 >= userInput3:\n",
    "    if userInput1 >= userInput3:\n",
    "        print(\"Descending order: \", userInput2, userInput1, userInput3)\n",
    "    else:\n",
    "        print(\"Descending order: \", userInput2, userInput3, userInput1)\n",
    "else:\n",
    "    if userInput1 >= userInput2:\n",
    "        print(\"Descending order: \", userInput3, userInput1, userInput2)\n",
    "    else:\n",
    "        print(\"Descending order: \", userInput3, userInput2, userInput1)"
   ],
   "id": "54cf6db65655ed4e",
   "outputs": [
    {
     "name": "stdout",
     "output_type": "stream",
     "text": [
      "Descending order:  60.0 10.0 2.0\n"
     ]
    }
   ],
   "execution_count": 24
  },
  {
   "metadata": {},
   "cell_type": "markdown",
   "source": "Ternary Operator",
   "id": "6d4fe3cccf686032"
  },
  {
   "metadata": {
    "ExecuteTime": {
     "end_time": "2025-10-10T04:32:45.501280Z",
     "start_time": "2025-10-10T04:32:41.282269Z"
    }
   },
   "cell_type": "code",
   "source": [
    "userIn = input(\"Enter number\")\n",
    "result = \"Even\" if float(userIn) % 2 == 0 else \"Odd\"\n",
    "print(result)"
   ],
   "id": "4094ec5d0b30a69d",
   "outputs": [
    {
     "name": "stdout",
     "output_type": "stream",
     "text": [
      "Odd\n"
     ]
    }
   ],
   "execution_count": 25
  },
  {
   "metadata": {},
   "cell_type": "markdown",
   "source": "Q3. Write a python program to take a number as input and print it's absolute value using a ternary operator. Do not use the built-in abs().",
   "id": "127ee1aa6819ce00"
  },
  {
   "metadata": {
    "ExecuteTime": {
     "end_time": "2025-10-10T04:44:22.578176Z",
     "start_time": "2025-10-10T04:44:19.441339Z"
    }
   },
   "cell_type": "code",
   "source": [
    "userInputNum = float(input(\"Enter number\"))\n",
    "result = userInputNum if userInputNum > 0 else -userInputNum\n",
    "print(\"Absolute value of \", userInputNum,\" is: \", result)"
   ],
   "id": "cc88ac6b00d5b60a",
   "outputs": [
    {
     "name": "stdout",
     "output_type": "stream",
     "text": [
      "Absolute value of  -8.0  is:  8.0\n"
     ]
    }
   ],
   "execution_count": 27
  },
  {
   "metadata": {},
   "cell_type": "markdown",
   "source": "Structural pattern matching",
   "id": "afbece165cfe7e80"
  },
  {
   "metadata": {
    "ExecuteTime": {
     "end_time": "2025-10-10T04:55:52.387465Z",
     "start_time": "2025-10-10T04:55:48.983619Z"
    }
   },
   "cell_type": "code",
   "source": [
    "inputN = float(input(\"Enter number\"))\n",
    "\n",
    "match inputN:\n",
    "    case 1:\n",
    "        print(\"Number is one\")\n",
    "    case 2:\n",
    "        print(\"Number is two\")\n",
    "    case 3:\n",
    "        print(\"Number is three\")\n",
    "    case _:\n",
    "        print(\"Number is something else\")\n"
   ],
   "id": "c4caf52371e3b806",
   "outputs": [
    {
     "name": "stdout",
     "output_type": "stream",
     "text": [
      "Number is something else\n"
     ]
    }
   ],
   "execution_count": 28
  },
  {
   "metadata": {},
   "cell_type": "markdown",
   "source": "Q4. Write a python program that takes a day of the week as input (example: Monday, Tuesday, etc.) and prints weather it is a week day or weekend using structural pattern mapping",
   "id": "3e6b6f05ccaae7fd"
  },
  {
   "metadata": {
    "ExecuteTime": {
     "end_time": "2025-10-10T05:23:00.150128Z",
     "start_time": "2025-10-10T05:22:55.502750Z"
    }
   },
   "cell_type": "code",
   "source": [
    "dayInput = input(\"Enter day of the week (example: Monday, Tuesday, etc.)\")\n",
    "\n",
    "match dayInput:\n",
    "    case \"Sunday\" | \"Saturday\":\n",
    "        print(\"Weekend\")\n",
    "    case \"Friday\" | \"Thursday\" | \"Wednesday\" | \"Tuesday\" | \"Monday\":\n",
    "        print(\"Week day\")\n",
    "    case _:\n",
    "        print(\"Invalid input\")"
   ],
   "id": "cdf2864cee0d9003",
   "outputs": [
    {
     "name": "stdout",
     "output_type": "stream",
     "text": [
      "Week day\n"
     ]
    }
   ],
   "execution_count": 44
  },
  {
   "metadata": {
    "ExecuteTime": {
     "end_time": "2025-10-10T05:47:05.829542Z",
     "start_time": "2025-10-10T05:47:05.819983Z"
    }
   },
   "cell_type": "code",
   "source": [
    "numbers = [2, 4, 20]\n",
    "\n",
    "match numbers:\n",
    "    case [x, y]:\n",
    "        print(x * y)\n",
    "    case [x, y, z]:\n",
    "        print(x + y + z)\n",
    "    case _:\n",
    "        print(\"Invalid input\")"
   ],
   "id": "b25482263db851be",
   "outputs": [
    {
     "name": "stdout",
     "output_type": "stream",
     "text": [
      "26\n"
     ]
    }
   ],
   "execution_count": 47
  },
  {
   "metadata": {},
   "cell_type": "markdown",
   "source": [
    "Q5. Write a python program using structural pattern mapping that takes a list of numbers;\n",
    "i. If the list content two numbers read them as a base and height of a right angle trangle and calculates the hypotenuses.\n",
    "ii. If the list content three numbers calculates they are of the trangle using that numbers as sides\n",
    "iii. Otherwise, print unsupported number of inputs"
   ],
   "id": "188a583ed060e0e4"
  },
  {
   "metadata": {},
   "cell_type": "code",
   "outputs": [],
   "execution_count": null,
   "source": [
    "values = [2, 4, 20]\n",
    "match values:\n",
    "    case [x, y]:\n",
    "         hypotenuse = (x**2 + y**2) ** 0.5\n",
    "         print(hypotenuse)\n",
    "    case [x, y, z]:\n",
    "         print(x * y * z)\n",
    "\n"
   ],
   "id": "2eafd907422dbd39"
  }
 ],
 "metadata": {
  "kernelspec": {
   "display_name": "Python 3",
   "language": "python",
   "name": "python3"
  },
  "language_info": {
   "codemirror_mode": {
    "name": "ipython",
    "version": 2
   },
   "file_extension": ".py",
   "mimetype": "text/x-python",
   "name": "python",
   "nbconvert_exporter": "python",
   "pygments_lexer": "ipython2",
   "version": "2.7.6"
  }
 },
 "nbformat": 4,
 "nbformat_minor": 5
}
