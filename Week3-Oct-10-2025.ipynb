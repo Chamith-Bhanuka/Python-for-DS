{
 "cells": [
  {
   "cell_type": "code",
   "id": "initial_id",
   "metadata": {
    "collapsed": true,
    "ExecuteTime": {
     "end_time": "2025-10-10T10:39:46.784830Z",
     "start_time": "2025-10-10T10:39:46.776035Z"
    }
   },
   "source": [
    "a = -(-10)\n",
    "\n",
    "if a > 0:\n",
    "    print(\"a is positive\")\n",
    "elif a < 0:\n",
    "    print(\"a is negative\")\n",
    "else:\n",
    "    print(\"a is zero\")"
   ],
   "outputs": [
    {
     "name": "stdout",
     "output_type": "stream",
     "text": [
      "a is positive\n"
     ]
    }
   ],
   "execution_count": 113
  },
  {
   "metadata": {},
   "cell_type": "markdown",
   "source": "Q1. Write a python program for determine the largest number among three given numbers",
   "id": "43037fa2199d492f"
  },
  {
   "metadata": {
    "ExecuteTime": {
     "end_time": "2025-10-10T10:40:33.344103Z",
     "start_time": "2025-10-10T10:40:24.637742Z"
    }
   },
   "cell_type": "code",
   "source": [
    "userInput1 = float(input(\"Enter your first number: \"))\n",
    "userInput2 = float(input(\"Enter your second number: \"))\n",
    "userInput3 = float(input(\"Enter your third number: \"))\n",
    "\n",
    "if userInput1 >= userInput2 and userInput1 >= userInput3:\n",
    "    print(\"Largest number is:\", userInput1)\n",
    "elif userInput2 >= userInput1 and userInput2 >= userInput3:\n",
    "    print(\"Largest number is:\", userInput2)\n",
    "else:\n",
    "    print(\"Largest number is:\", userInput3)"
   ],
   "id": "56d46cdc187fc163",
   "outputs": [
    {
     "name": "stdout",
     "output_type": "stream",
     "text": [
      "Largest number is: 30.0\n"
     ]
    }
   ],
   "execution_count": 115
  },
  {
   "metadata": {},
   "cell_type": "markdown",
   "source": "Q2. Write a python program that takes three numbers as input and display them in descending order",
   "id": "bff4ce608fd7a4e1"
  },
  {
   "metadata": {
    "ExecuteTime": {
     "end_time": "2025-10-10T10:39:48.752113400Z",
     "start_time": "2025-10-10T04:25:23.187605Z"
    }
   },
   "cell_type": "code",
   "source": [
    "userInput1 = float(input(\"Enter your first number: \"))\n",
    "userInput2 = float(input(\"Enter your second number: \"))\n",
    "userInput3 = float(input(\"Enter your third number: \"))\n",
    "\n",
    "if userInput1 >= userInput2 and userInput1 >= userInput3:\n",
    "    if userInput2 >= userInput3:\n",
    "        print(\"Descending order: \", userInput1, userInput2, userInput3)\n",
    "    else:\n",
    "        print(\"Descending order: \", userInput1, userInput3, userInput2)\n",
    "elif userInput2 >= userInput1 and userInput2 >= userInput3:\n",
    "    if userInput1 >= userInput3:\n",
    "        print(\"Descending order: \", userInput2, userInput1, userInput3)\n",
    "    else:\n",
    "        print(\"Descending order: \", userInput2, userInput3, userInput1)\n",
    "else:\n",
    "    if userInput1 >= userInput2:\n",
    "        print(\"Descending order: \", userInput3, userInput1, userInput2)\n",
    "    else:\n",
    "        print(\"Descending order: \", userInput3, userInput2, userInput1)"
   ],
   "id": "54cf6db65655ed4e",
   "outputs": [
    {
     "name": "stdout",
     "output_type": "stream",
     "text": [
      "Descending order:  60.0 10.0 2.0\n"
     ]
    }
   ],
   "execution_count": 24
  },
  {
   "metadata": {},
   "cell_type": "markdown",
   "source": "Ternary Operator",
   "id": "6d4fe3cccf686032"
  },
  {
   "metadata": {
    "ExecuteTime": {
     "end_time": "2025-10-10T10:39:48.753110700Z",
     "start_time": "2025-10-10T04:32:41.282269Z"
    }
   },
   "cell_type": "code",
   "source": [
    "userIn = input(\"Enter number\")\n",
    "result = \"Even\" if float(userIn) % 2 == 0 else \"Odd\"\n",
    "print(result)"
   ],
   "id": "4094ec5d0b30a69d",
   "outputs": [
    {
     "name": "stdout",
     "output_type": "stream",
     "text": [
      "Odd\n"
     ]
    }
   ],
   "execution_count": 25
  },
  {
   "metadata": {},
   "cell_type": "markdown",
   "source": "Q3. Write a python program to take a number as input and print it's absolute value using a ternary operator. Do not use the built-in abs().",
   "id": "127ee1aa6819ce00"
  },
  {
   "metadata": {
    "ExecuteTime": {
     "end_time": "2025-10-10T10:39:48.754111200Z",
     "start_time": "2025-10-10T04:44:19.441339Z"
    }
   },
   "cell_type": "code",
   "source": [
    "userInputNum = float(input(\"Enter number\"))\n",
    "result = userInputNum if userInputNum > 0 else -userInputNum\n",
    "print(\"Absolute value of \", userInputNum,\" is: \", result)"
   ],
   "id": "cc88ac6b00d5b60a",
   "outputs": [
    {
     "name": "stdout",
     "output_type": "stream",
     "text": [
      "Absolute value of  -8.0  is:  8.0\n"
     ]
    }
   ],
   "execution_count": 27
  },
  {
   "metadata": {},
   "cell_type": "markdown",
   "source": "Structural pattern matching",
   "id": "afbece165cfe7e80"
  },
  {
   "metadata": {
    "ExecuteTime": {
     "end_time": "2025-10-10T10:39:48.755111Z",
     "start_time": "2025-10-10T04:55:48.983619Z"
    }
   },
   "cell_type": "code",
   "source": [
    "inputN = float(input(\"Enter number\"))\n",
    "\n",
    "match inputN:\n",
    "    case 1:\n",
    "        print(\"Number is one\")\n",
    "    case 2:\n",
    "        print(\"Number is two\")\n",
    "    case 3:\n",
    "        print(\"Number is three\")\n",
    "    case _:\n",
    "        print(\"Number is something else\")\n"
   ],
   "id": "c4caf52371e3b806",
   "outputs": [
    {
     "name": "stdout",
     "output_type": "stream",
     "text": [
      "Number is something else\n"
     ]
    }
   ],
   "execution_count": 28
  },
  {
   "metadata": {},
   "cell_type": "markdown",
   "source": "Q4. Write a python program that takes a day of the week as input (example: Monday, Tuesday, etc.) and prints weather it is a week day or weekend using structural pattern mapping",
   "id": "3e6b6f05ccaae7fd"
  },
  {
   "metadata": {
    "ExecuteTime": {
     "end_time": "2025-10-10T10:39:48.756113500Z",
     "start_time": "2025-10-10T05:22:55.502750Z"
    }
   },
   "cell_type": "code",
   "source": [
    "dayInput = input(\"Enter day of the week (example: Monday, Tuesday, etc.)\")\n",
    "\n",
    "match dayInput:\n",
    "    case \"Sunday\" | \"Saturday\":\n",
    "        print(\"Weekend\")\n",
    "    case \"Friday\" | \"Thursday\" | \"Wednesday\" | \"Tuesday\" | \"Monday\":\n",
    "        print(\"Week day\")\n",
    "    case _:\n",
    "        print(\"Invalid input\")"
   ],
   "id": "cdf2864cee0d9003",
   "outputs": [
    {
     "name": "stdout",
     "output_type": "stream",
     "text": [
      "Week day\n"
     ]
    }
   ],
   "execution_count": 44
  },
  {
   "metadata": {
    "ExecuteTime": {
     "end_time": "2025-10-10T10:39:48.756113500Z",
     "start_time": "2025-10-10T05:47:05.819983Z"
    }
   },
   "cell_type": "code",
   "source": [
    "numbers = [2, 4, 20]\n",
    "\n",
    "match numbers:\n",
    "    case [x, y]:\n",
    "        print(x * y)\n",
    "    case [x, y, z]:\n",
    "        print(x + y + z)\n",
    "    case _:\n",
    "        print(\"Invalid input\")"
   ],
   "id": "b25482263db851be",
   "outputs": [
    {
     "name": "stdout",
     "output_type": "stream",
     "text": [
      "26\n"
     ]
    }
   ],
   "execution_count": 47
  },
  {
   "metadata": {},
   "cell_type": "markdown",
   "source": [
    "Q5. Write a python program using structural pattern mapping that takes a list of numbers;\n",
    "i. If the list content two numbers read them as a base and height of a right angle trangle and calculates the hypotenuses.\n",
    "ii. If the list content three numbers calculates area they are of the trangle using that numbers as sides\n",
    "iii. Otherwise, print unsupported number of inputs"
   ],
   "id": "188a583ed060e0e4"
  },
  {
   "metadata": {
    "ExecuteTime": {
     "end_time": "2025-10-10T10:39:48.757116200Z",
     "start_time": "2025-10-10T08:49:50.788178Z"
    }
   },
   "cell_type": "code",
   "source": [
    "values = [2, 4, 5]\n",
    "match values:\n",
    "    case [x, y]:\n",
    "         hypotenuse = (x**2 + y**2) ** 0.5\n",
    "         print(hypotenuse)\n",
    "    case [a, b, c]:\n",
    "         s = (a + b + c) / 2\n",
    "         area = (s * (s - a) * (s - b) * (s - c)) ** 0.5\n",
    "         print(\"Area of triangle with sides\", a, b, c, \"is: \" , area)\n",
    "    case _:\n",
    "         print(\"Invalid input\")"
   ],
   "id": "2eafd907422dbd39",
   "outputs": [
    {
     "name": "stdout",
     "output_type": "stream",
     "text": [
      "Area of triangle with sides 2 4 5 is:  3.799671038392666\n"
     ]
    }
   ],
   "execution_count": 60
  },
  {
   "metadata": {},
   "cell_type": "markdown",
   "source": "Loops",
   "id": "fcb403b7141d27b1"
  },
  {
   "metadata": {
    "ExecuteTime": {
     "end_time": "2025-10-10T10:39:48.758111400Z",
     "start_time": "2025-10-10T09:04:59.441220Z"
    }
   },
   "cell_type": "code",
   "source": [
    "nums = [10, 20, 30]\n",
    "for num in nums:\n",
    "    print(num)"
   ],
   "id": "4b3ee820584d992e",
   "outputs": [
    {
     "name": "stdout",
     "output_type": "stream",
     "text": [
      "10\n",
      "20\n",
      "30\n"
     ]
    }
   ],
   "execution_count": 61
  },
  {
   "metadata": {
    "ExecuteTime": {
     "end_time": "2025-10-10T10:39:48.759110800Z",
     "start_time": "2025-10-10T09:10:04.888416Z"
    }
   },
   "cell_type": "code",
   "source": [
    "for letters in \"Chickenpox\":\n",
    "    print(letters)"
   ],
   "id": "225de1d8bfe3c644",
   "outputs": [
    {
     "name": "stdout",
     "output_type": "stream",
     "text": [
      "C\n",
      "h\n",
      "i\n",
      "c\n",
      "k\n",
      "e\n",
      "n\n",
      "p\n",
      "o\n",
      "x\n"
     ]
    }
   ],
   "execution_count": 62
  },
  {
   "metadata": {},
   "cell_type": "markdown",
   "source": "Q6. Write a python program to filter out odd numbers from the below list nums = [16, 9, 8, 5, 12, 18]",
   "id": "57b2c42bbbb80fea"
  },
  {
   "metadata": {
    "ExecuteTime": {
     "end_time": "2025-10-10T10:39:48.759110800Z",
     "start_time": "2025-10-10T09:14:55.068073Z"
    }
   },
   "cell_type": "code",
   "source": [
    "nums_list = [16, 9, 8, 5, 12, 18]\n",
    "\n",
    "for num in nums_list:\n",
    "    if num % 2 != 0:\n",
    "        nums_list.remove(num)\n",
    "print(nums_list)"
   ],
   "id": "23e606b6450f2a59",
   "outputs": [
    {
     "name": "stdout",
     "output_type": "stream",
     "text": [
      "[16, 8, 12, 18]\n"
     ]
    }
   ],
   "execution_count": 66
  },
  {
   "metadata": {},
   "cell_type": "markdown",
   "source": "Q7. Write a python program to display all positive multiplications of 7 with are less than 100",
   "id": "8538be9be8438983"
  },
  {
   "metadata": {
    "ExecuteTime": {
     "end_time": "2025-10-10T10:39:48.760111100Z",
     "start_time": "2025-10-10T09:33:36.073619Z"
    }
   },
   "cell_type": "code",
   "source": [
    "seven_mul = []\n",
    "for num in range(7, 100, 7):\n",
    "    seven_mul.append(num)\n",
    "print(seven_mul)"
   ],
   "id": "e5cf4c694960f4cf",
   "outputs": [
    {
     "name": "stdout",
     "output_type": "stream",
     "text": [
      "[7, 14, 21, 28, 35, 42, 49, 56, 63, 70, 77, 84, 91, 98]\n"
     ]
    }
   ],
   "execution_count": 70
  },
  {
   "metadata": {},
   "cell_type": "markdown",
   "source": "Q8. Write a python program using a for loop to calculate the factorial of a given number",
   "id": "cd446be7463b6187"
  },
  {
   "metadata": {
    "ExecuteTime": {
     "end_time": "2025-10-10T10:29:52.706754Z",
     "start_time": "2025-10-10T10:29:52.698994Z"
    }
   },
   "cell_type": "code",
   "source": [
    "given_num = 0\n",
    "fact = 1\n",
    "\n",
    "if given_num < 0:\n",
    "        print(\"Invalid input\")\n",
    "else:\n",
    "    for num in range(given_num+1):\n",
    "        if num == 0 or num == 1:\n",
    "            continue\n",
    "        fact = fact * num\n",
    "    print(fact)"
   ],
   "id": "967d4e13b59ce3b",
   "outputs": [
    {
     "name": "stdout",
     "output_type": "stream",
     "text": [
      "1\n"
     ]
    }
   ],
   "execution_count": 112
  },
  {
   "metadata": {},
   "cell_type": "markdown",
   "source": "Break",
   "id": "3aa7468d94bf986a"
  },
  {
   "metadata": {},
   "cell_type": "code",
   "outputs": [],
   "execution_count": null,
   "source": [
    "numbers = [2,7,5]\n",
    "for num in numbers:\n",
    "    if num > 5:\n",
    "        break\n",
    "    print(num)"
   ],
   "id": "ab1ca9b173d717d5"
  },
  {
   "metadata": {},
   "cell_type": "markdown",
   "source": "Q9. Write a python program that takes 10 integers from the user using a for loop i. The program should stop taking inputs immediately if the user inputs the 0, using the break statement ii. After the loop ends, print the sum of all the numbers entered before 0",
   "id": "a33ddf7a0ddf5985"
  },
  {
   "metadata": {
    "ExecuteTime": {
     "end_time": "2025-10-10T11:04:35.373496Z",
     "start_time": "2025-10-10T11:04:28.238582Z"
    }
   },
   "cell_type": "code",
   "source": [
    "total = 0\n",
    "for num in range(10):\n",
    "    userInput = int(input(\"Enter the number\"))\n",
    "    total += userInput\n",
    "    if userInput == 0:\n",
    "        break\n",
    "print(\"Total of the inputs before enter zero: \", total)"
   ],
   "id": "9a5288dcb314f7fc",
   "outputs": [
    {
     "name": "stdout",
     "output_type": "stream",
     "text": [
      "Total of the inputs before enter zero:  5\n"
     ]
    }
   ],
   "execution_count": 129
  },
  {
   "metadata": {},
   "cell_type": "markdown",
   "source": "Continue",
   "id": "8fd83bb7e0748942"
  },
  {
   "metadata": {
    "ExecuteTime": {
     "end_time": "2025-10-10T11:17:36.410844Z",
     "start_time": "2025-10-10T11:17:36.401801Z"
    }
   },
   "cell_type": "code",
   "source": [
    "numbers = [2,7,5,10]\n",
    "for num in numbers:\n",
    "    if num % 2 == 0:\n",
    "        continue\n",
    "    print(num)"
   ],
   "id": "b4336ce102ad7e7f",
   "outputs": [
    {
     "name": "stdout",
     "output_type": "stream",
     "text": [
      "7\n",
      "5\n"
     ]
    }
   ],
   "execution_count": 131
  },
  {
   "metadata": {},
   "cell_type": "markdown",
   "source": "Q10. Write a python program that takes 10 integers from the user using a for loop. The program should skip all negative numbers using the continue statement. It should calculate and display the sum of only positive numbers enter",
   "id": "4d4b8b1a9f15414b"
  },
  {
   "metadata": {
    "ExecuteTime": {
     "end_time": "2025-10-10T11:25:42.532897Z",
     "start_time": "2025-10-10T11:25:24.064013Z"
    }
   },
   "cell_type": "code",
   "source": [
    "total = 0\n",
    "userInputs = []\n",
    "for num in range(10):\n",
    "    userInput = int(input(\"Enter the number\"))\n",
    "    userInputs.append(userInput)\n",
    "    if userInput < 0:\n",
    "        continue\n",
    "    total += userInput\n",
    "print(\"Total of the positive numbers: \", total)\n",
    "print(\"User inputs: \", userInputs)"
   ],
   "id": "156997e235fe5b1b",
   "outputs": [
    {
     "name": "stdout",
     "output_type": "stream",
     "text": [
      "Total of the positive numbers:  160\n",
      "User inputs:  [10, 20, 30, -5, -6, -400, 50, 20, 30, -10]\n"
     ]
    }
   ],
   "execution_count": 134
  }
 ],
 "metadata": {
  "kernelspec": {
   "display_name": "Python 3",
   "language": "python",
   "name": "python3"
  },
  "language_info": {
   "codemirror_mode": {
    "name": "ipython",
    "version": 2
   },
   "file_extension": ".py",
   "mimetype": "text/x-python",
   "name": "python",
   "nbconvert_exporter": "python",
   "pygments_lexer": "ipython2",
   "version": "2.7.6"
  }
 },
 "nbformat": 4,
 "nbformat_minor": 5
}
