{
 "cells": [
  {
   "cell_type": "markdown",
   "id": "fff0242b",
   "metadata": {},
   "source": [
    "Execute sample code in a Jupyter Notebook"
   ]
  },
  {
   "cell_type": "code",
   "execution_count": 4,
   "id": "ab9995b0",
   "metadata": {},
   "outputs": [
    {
     "name": "stdout",
     "output_type": "stream",
     "text": [
      "hello world\n"
     ]
    }
   ],
   "source": [
    "print(\"hello world\")"
   ]
  },
  {
   "cell_type": "code",
   "execution_count": 5,
   "id": "30d0959f",
   "metadata": {},
   "outputs": [
    {
     "name": "stdout",
     "output_type": "stream",
     "text": [
      "30\n"
     ]
    }
   ],
   "source": [
    "a = 10\n",
    "b = 20\n",
    "c = a + b\n",
    "print(c)"
   ]
  },
  {
   "cell_type": "markdown",
   "id": "a9bd0e6a",
   "metadata": {},
   "source": [
    "Syntax for creating variable (in Python)"
   ]
  },
  {
   "cell_type": "code",
   "execution_count": 6,
   "id": "93468677",
   "metadata": {},
   "outputs": [
    {
     "name": "stdout",
     "output_type": "stream",
     "text": [
      "<class 'int'>\n"
     ]
    }
   ],
   "source": [
    "my_var = 3\n",
    "print(type(my_var))"
   ]
  },
  {
   "cell_type": "code",
   "execution_count": 7,
   "id": "b67005d9",
   "metadata": {},
   "outputs": [
    {
     "name": "stdout",
     "output_type": "stream",
     "text": [
      "<class 'float'>\n"
     ]
    }
   ],
   "source": [
    "my_var = 3.0\n",
    "print(type(my_var))"
   ]
  },
  {
   "cell_type": "code",
   "execution_count": 8,
   "id": "0ff5ea09",
   "metadata": {},
   "outputs": [
    {
     "name": "stdout",
     "output_type": "stream",
     "text": [
      "3.0\n"
     ]
    }
   ],
   "source": [
    "myVar = 5.0 # not good\n",
    "print(my_var)"
   ]
  },
  {
   "cell_type": "markdown",
   "id": "150b1a1b",
   "metadata": {},
   "source": [
    "Built-in Data Types in Python"
   ]
  },
  {
   "cell_type": "markdown",
   "id": "34f33129",
   "metadata": {},
   "source": [
    "Python Numeric Data Types (int, float, complex)"
   ]
  },
  {
   "cell_type": "code",
   "execution_count": 9,
   "id": "7f7b5d95",
   "metadata": {},
   "outputs": [
    {
     "name": "stdout",
     "output_type": "stream",
     "text": [
      "<class 'int'>\n"
     ]
    }
   ],
   "source": [
    "int_number = 5\n",
    "print(type(int_number))"
   ]
  },
  {
   "cell_type": "code",
   "execution_count": 10,
   "id": "9b7085ea",
   "metadata": {},
   "outputs": [
    {
     "name": "stdout",
     "output_type": "stream",
     "text": [
      "<class 'float'>\n"
     ]
    }
   ],
   "source": [
    "float_number = 5.0\n",
    "print(type(float_number))"
   ]
  },
  {
   "cell_type": "code",
   "execution_count": 11,
   "id": "1c4a828b",
   "metadata": {},
   "outputs": [
    {
     "name": "stdout",
     "output_type": "stream",
     "text": [
      "<class 'complex'>\n"
     ]
    }
   ],
   "source": [
    "complex_number = 2 + 5j\n",
    "print(type(complex_number))"
   ]
  },
  {
   "cell_type": "code",
   "execution_count": 12,
   "id": "eb595cae",
   "metadata": {},
   "outputs": [
    {
     "name": "stdout",
     "output_type": "stream",
     "text": [
      "4958000000.0\n",
      "<class 'float'>\n"
     ]
    }
   ],
   "source": [
    "my_sci_num = 4.958e9 # numeric float value represent in scientific way\n",
    "\n",
    "print(my_sci_num)\n",
    "print(type(my_sci_num))"
   ]
  },
  {
   "cell_type": "code",
   "execution_count": 13,
   "id": "cc7ebc08",
   "metadata": {},
   "outputs": [
    {
     "name": "stdout",
     "output_type": "stream",
     "text": [
      "10.0\n"
     ]
    }
   ],
   "source": [
    "a = 10 \n",
    "b = float(a) # casting\n",
    "print(b)"
   ]
  },
  {
   "cell_type": "code",
   "execution_count": 14,
   "id": "efdeced5",
   "metadata": {},
   "outputs": [
    {
     "name": "stdout",
     "output_type": "stream",
     "text": [
      "7\n"
     ]
    }
   ],
   "source": [
    "c = 7.3\n",
    "d = int(c)\n",
    "print(d)"
   ]
  },
  {
   "cell_type": "markdown",
   "id": "f26af578",
   "metadata": {},
   "source": [
    "Python Collections (Arrays): Python does not have built-in arrays. Instead, it provides other collection types such as List, Tuple, Set, and Dictionary."
   ]
  },
  {
   "cell_type": "markdown",
   "id": "1b8ccc2b",
   "metadata": {},
   "source": [
    "List"
   ]
  },
  {
   "cell_type": "code",
   "execution_count": 15,
   "id": "ba384856",
   "metadata": {},
   "outputs": [
    {
     "name": "stdout",
     "output_type": "stream",
     "text": [
      "[10, 20, 30, 40, 50]\n",
      "<class 'list'>\n"
     ]
    }
   ],
   "source": [
    "my_list = [10, 20, 30, 40, 50]\n",
    "print(my_list)\n",
    "print(type(my_list))"
   ]
  },
  {
   "cell_type": "code",
   "execution_count": 16,
   "id": "83ef1a49",
   "metadata": {},
   "outputs": [
    {
     "name": "stdout",
     "output_type": "stream",
     "text": [
      "30\n"
     ]
    }
   ],
   "source": [
    "my_list = [10, 20, 30, 40, 50]\n",
    "print(my_list[2]) # Python lists are ordered"
   ]
  },
  {
   "cell_type": "code",
   "execution_count": 17,
   "id": "6f716705",
   "metadata": {},
   "outputs": [
    {
     "name": "stdout",
     "output_type": "stream",
     "text": [
      "100\n"
     ]
    }
   ],
   "source": [
    "my_list = [10, 20, 30, 40, 50]\n",
    "my_list[2] = 100 # Python lists are changable\n",
    "print(my_list[2])"
   ]
  },
  {
   "cell_type": "code",
   "execution_count": 18,
   "id": "87a5b855",
   "metadata": {},
   "outputs": [
    {
     "name": "stdout",
     "output_type": "stream",
     "text": [
      "140733639418792\n",
      "140733639418952\n"
     ]
    }
   ],
   "source": [
    "x = 5\n",
    "print(id(x))\n",
    "\n",
    "x = 10\n",
    "print(id(x))"
   ]
  },
  {
   "cell_type": "code",
   "execution_count": 19,
   "id": "1905e1b5",
   "metadata": {},
   "outputs": [
    {
     "name": "stdout",
     "output_type": "stream",
     "text": [
      "1524448312448\n",
      "1524448312448\n"
     ]
    }
   ],
   "source": [
    "my_list = [1, 2, 3, 4, 5]\n",
    "print(id(my_list))\n",
    "\n",
    "my_list[2] = 30 # Lists are mutable\n",
    "print(id(my_list))"
   ]
  },
  {
   "cell_type": "code",
   "execution_count": 20,
   "id": "4dd1c10a",
   "metadata": {},
   "outputs": [
    {
     "name": "stdout",
     "output_type": "stream",
     "text": [
      "['BMW', 'Volvo', 'Honda', 'BMW']\n"
     ]
    }
   ],
   "source": [
    "car_list = [\"BMW\", \"Volvo\", \"Honda\", \"BMW\"]\n",
    "print(car_list) # List allow duplicate"
   ]
  },
  {
   "cell_type": "code",
   "execution_count": 21,
   "id": "5d067a3c",
   "metadata": {},
   "outputs": [
    {
     "name": "stdout",
     "output_type": "stream",
     "text": [
      "[10, 12.45, True, 'Cat']\n"
     ]
    }
   ],
   "source": [
    "mix_list = [10, 12.45, True, \"Cat\"]\n",
    "print(mix_list) # List can hold multiple types"
   ]
  },
  {
   "cell_type": "code",
   "execution_count": 22,
   "id": "1076c303",
   "metadata": {},
   "outputs": [
    {
     "name": "stdout",
     "output_type": "stream",
     "text": [
      "4\n"
     ]
    }
   ],
   "source": [
    "length_list = [100, 200, 300, \"Bike\"]\n",
    "print(len(length_list)) # Return the length of the list"
   ]
  },
  {
   "cell_type": "code",
   "execution_count": 23,
   "id": "9d3dafe7",
   "metadata": {},
   "outputs": [
    {
     "name": "stdout",
     "output_type": "stream",
     "text": [
      "[9, 15, 20]\n",
      "[9, 15, 20, 18, 26]\n",
      "[10, 8, 9, 15, 20]\n",
      "15\n",
      "[10, 8, 90, 60, 80, 18, 26]\n"
     ]
    }
   ],
   "source": [
    "key_list = [10, 8, 9, 15, 20, 18, 26]\n",
    "print(key_list[2:5]) # from 2 to 4\n",
    "print(key_list[2:]) # from 2 to last index\n",
    "print(key_list[:5]) # from first index to 4\n",
    "print(key_list[-4]) # from last element to backword 4 times\n",
    "\n",
    "key_list[2:5]=[90, 60, 80]\n",
    "print(key_list)"
   ]
  },
  {
   "cell_type": "code",
   "execution_count": 24,
   "id": "cab7b304",
   "metadata": {},
   "outputs": [
    {
     "name": "stdout",
     "output_type": "stream",
     "text": [
      "['A', 'B', 'C']\n",
      "['A', 100.5, 'B', 'C']\n",
      "['A', 100.5, 'B', 'C', 'Last Element']\n"
     ]
    }
   ],
   "source": [
    "# Insert items to existing lists\n",
    "\n",
    "# insert() method (add new value to specific location)\n",
    "my_list = [\"A\", \"B\", \"C\"]\n",
    "print(my_list)\n",
    "my_list.insert(1, 100.5)\n",
    "print(my_list)\n",
    "\n",
    "# append() method (add new value as last element)\n",
    "my_list.append(\"Last Element\")\n",
    "print(my_list)"
   ]
  },
  {
   "cell_type": "code",
   "execution_count": 25,
   "id": "97eded05",
   "metadata": {},
   "outputs": [
    {
     "name": "stdout",
     "output_type": "stream",
     "text": [
      "['cat', 'monkey', 'dog']\n",
      "Removed Value:  monkey\n",
      "['cat', 'dog']\n",
      "['cat']\n"
     ]
    }
   ],
   "source": [
    "# Remove items from list\n",
    "my_list = [\"cat\", \"dog\", \"monkey\", \"dog\"]\n",
    "my_list.remove(\"dog\") # remove the first elemet from duplicates\n",
    "print(my_list)\n",
    "\n",
    "removed_val = my_list.pop(1) # Remove and return the value at the given index\n",
    "print(\"Removed Value: \", removed_val)\n",
    "print(my_list)\n",
    "\n",
    "del my_list[1]\n",
    "print(my_list)\n",
    "\n",
    "del my_list # remove entire list destroy it\n",
    "#print(my_list)"
   ]
  },
  {
   "cell_type": "code",
   "execution_count": 26,
   "id": "c54ae8e7",
   "metadata": {},
   "outputs": [
    {
     "name": "stdout",
     "output_type": "stream",
     "text": [
      "5\n",
      "[100, 200, 300, 400, 500]\n",
      "0\n",
      "[]\n"
     ]
    }
   ],
   "source": [
    "# Emoty list\n",
    "new_list_clr = [100, 200, 300, 400, 500]\n",
    "print(len(new_list_clr))\n",
    "print(new_list_clr)\n",
    "\n",
    "new_list_clr.clear()\n",
    "print(len(new_list_clr))\n",
    "print(new_list_clr)"
   ]
  },
  {
   "cell_type": "code",
   "execution_count": 33,
   "id": "e08d5fc1",
   "metadata": {},
   "outputs": [
    {
     "name": "stdout",
     "output_type": "stream",
     "text": [
      "['32', 'Graphs', 'apple', 'rabbit', 'rat']\n"
     ]
    }
   ],
   "source": [
    "# List Sorting\n",
    "my_pets = [\"32\", \"apple\", \"rat\", \"Graphs\", \"rabbit\"]\n",
    "my_pets.sort() # Asscending order by default\n",
    "print(my_pets)\n"
   ]
  }
 ],
 "metadata": {
  "kernelspec": {
   "display_name": "Python 3",
   "language": "python",
   "name": "python3"
  },
  "language_info": {
   "codemirror_mode": {
    "name": "ipython",
    "version": 3
   },
   "file_extension": ".py",
   "mimetype": "text/x-python",
   "name": "python",
   "nbconvert_exporter": "python",
   "pygments_lexer": "ipython3",
   "version": "3.11.3"
  }
 },
 "nbformat": 4,
 "nbformat_minor": 5
}
